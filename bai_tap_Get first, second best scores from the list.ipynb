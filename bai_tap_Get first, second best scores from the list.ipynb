{
 "cells": [
  {
   "cell_type": "code",
   "execution_count": null,
   "id": "2fbb2d4a",
   "metadata": {},
   "outputs": [],
   "source": [
    "danh_sach=[]\n",
    "while True: \n",
    "    so = input(\"nhập vào một số bất kỳ. nếu muốn thoát bấm 'q': \")\n",
    "    if so==\"q\" :\n",
    "        break \n",
    "    danh_sach.append(int(so))\n",
    "print (danh_sach)\n",
    "if len(danh_sach) ==2:\n",
    "    print (f'2 sô lớn nhất là {danh_sach[1]} và {danh_sach[0]}')\n",
    "elif len(danh_sach)>2:\n",
    "    danh_sach.sort(reverse = True)\n",
    "    print (f'hai số lớn nhất là {danh_sach[0]} và {danh_sach[1]}')   \n",
    "elif len(danh_sach)==1:\n",
    "    print(f\"số lớn nhất là chính số {danh_sach[0]}\")\n",
    "else:\n",
    "    print (f'Nhập lại số n')"
   ]
  },
  {
   "cell_type": "code",
   "execution_count": null,
   "id": "760bc88e",
   "metadata": {},
   "outputs": [],
   "source": []
  }
 ],
 "metadata": {
  "kernelspec": {
   "display_name": "Python 3 (ipykernel)",
   "language": "python",
   "name": "python3"
  },
  "language_info": {
   "codemirror_mode": {
    "name": "ipython",
    "version": 3
   },
   "file_extension": ".py",
   "mimetype": "text/x-python",
   "name": "python",
   "nbconvert_exporter": "python",
   "pygments_lexer": "ipython3",
   "version": "3.9.12"
  }
 },
 "nbformat": 4,
 "nbformat_minor": 5
}
